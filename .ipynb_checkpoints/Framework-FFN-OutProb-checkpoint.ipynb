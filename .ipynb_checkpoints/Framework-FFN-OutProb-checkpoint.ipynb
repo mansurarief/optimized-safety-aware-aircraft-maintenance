{
 "cells": [
  {
   "cell_type": "markdown",
   "metadata": {},
   "source": [
    "## General idea:\n",
    "\n",
    "1. Use data $X_t$ to estimate the underlying (unknown) machine health index state $\\hat Z_t$ for $Z_t$\n",
    "2. Determine the optimal action via optimization: $A_t^* = \\arg \\min J(A_t, \\hat Z_t)$\n",
    "3. Select action $A_t^*$, i.e. incur cost $J(A_t^*, Z_t)$\n",
    "4. Go forward to the next cycle $t+1$: \n",
    "$$X_{t+1} = T_X(X_t, A_t^*);~~~~ Z_{t+1} = T_Z(Z_t, A_t^*)$$"
   ]
  },
  {
   "cell_type": "markdown",
   "metadata": {},
   "source": [
    "#### Step 1: Estimating machine state (health-index approach)"
   ]
  },
  {
   "cell_type": "code",
   "execution_count": 1,
   "metadata": {},
   "outputs": [
    {
     "data": {
      "text/html": [
       "<div>\n",
       "<style scoped>\n",
       "    .dataframe tbody tr th:only-of-type {\n",
       "        vertical-align: middle;\n",
       "    }\n",
       "\n",
       "    .dataframe tbody tr th {\n",
       "        vertical-align: top;\n",
       "    }\n",
       "\n",
       "    .dataframe thead th {\n",
       "        text-align: right;\n",
       "    }\n",
       "</style>\n",
       "<table border=\"1\" class=\"dataframe\">\n",
       "  <thead>\n",
       "    <tr style=\"text-align: right;\">\n",
       "      <th></th>\n",
       "      <th>UnitNumber</th>\n",
       "      <th>Cycle</th>\n",
       "      <th>Op_Setting_1</th>\n",
       "      <th>Op_Setting_2</th>\n",
       "      <th>Op_Setting_3</th>\n",
       "      <th>Sensor_1</th>\n",
       "      <th>Sensor_2</th>\n",
       "      <th>Sensor_3</th>\n",
       "      <th>Sensor_4</th>\n",
       "      <th>Sensor_5</th>\n",
       "      <th>...</th>\n",
       "      <th>Sensor_14</th>\n",
       "      <th>Sensor_15</th>\n",
       "      <th>Sensor_16</th>\n",
       "      <th>Sensor_17</th>\n",
       "      <th>Sensor_18</th>\n",
       "      <th>Sensor_19</th>\n",
       "      <th>Sensor_20</th>\n",
       "      <th>Sensor_21</th>\n",
       "      <th>Target_RUL</th>\n",
       "      <th>IsFailure</th>\n",
       "    </tr>\n",
       "  </thead>\n",
       "  <tbody>\n",
       "    <tr>\n",
       "      <th>0</th>\n",
       "      <td>1</td>\n",
       "      <td>1</td>\n",
       "      <td>-0.0007</td>\n",
       "      <td>-0.0004</td>\n",
       "      <td>100.0</td>\n",
       "      <td>518.67</td>\n",
       "      <td>641.82</td>\n",
       "      <td>1589.70</td>\n",
       "      <td>1400.60</td>\n",
       "      <td>14.62</td>\n",
       "      <td>...</td>\n",
       "      <td>8138.62</td>\n",
       "      <td>8.4195</td>\n",
       "      <td>0.03</td>\n",
       "      <td>392</td>\n",
       "      <td>2388</td>\n",
       "      <td>100.0</td>\n",
       "      <td>39.06</td>\n",
       "      <td>23.4190</td>\n",
       "      <td>191</td>\n",
       "      <td>False</td>\n",
       "    </tr>\n",
       "    <tr>\n",
       "      <th>1</th>\n",
       "      <td>1</td>\n",
       "      <td>2</td>\n",
       "      <td>0.0019</td>\n",
       "      <td>-0.0003</td>\n",
       "      <td>100.0</td>\n",
       "      <td>518.67</td>\n",
       "      <td>642.15</td>\n",
       "      <td>1591.82</td>\n",
       "      <td>1403.14</td>\n",
       "      <td>14.62</td>\n",
       "      <td>...</td>\n",
       "      <td>8131.49</td>\n",
       "      <td>8.4318</td>\n",
       "      <td>0.03</td>\n",
       "      <td>392</td>\n",
       "      <td>2388</td>\n",
       "      <td>100.0</td>\n",
       "      <td>39.00</td>\n",
       "      <td>23.4236</td>\n",
       "      <td>190</td>\n",
       "      <td>False</td>\n",
       "    </tr>\n",
       "    <tr>\n",
       "      <th>2</th>\n",
       "      <td>1</td>\n",
       "      <td>3</td>\n",
       "      <td>-0.0043</td>\n",
       "      <td>0.0003</td>\n",
       "      <td>100.0</td>\n",
       "      <td>518.67</td>\n",
       "      <td>642.35</td>\n",
       "      <td>1587.99</td>\n",
       "      <td>1404.20</td>\n",
       "      <td>14.62</td>\n",
       "      <td>...</td>\n",
       "      <td>8133.23</td>\n",
       "      <td>8.4178</td>\n",
       "      <td>0.03</td>\n",
       "      <td>390</td>\n",
       "      <td>2388</td>\n",
       "      <td>100.0</td>\n",
       "      <td>38.95</td>\n",
       "      <td>23.3442</td>\n",
       "      <td>189</td>\n",
       "      <td>False</td>\n",
       "    </tr>\n",
       "    <tr>\n",
       "      <th>3</th>\n",
       "      <td>1</td>\n",
       "      <td>4</td>\n",
       "      <td>0.0007</td>\n",
       "      <td>0.0000</td>\n",
       "      <td>100.0</td>\n",
       "      <td>518.67</td>\n",
       "      <td>642.35</td>\n",
       "      <td>1582.79</td>\n",
       "      <td>1401.87</td>\n",
       "      <td>14.62</td>\n",
       "      <td>...</td>\n",
       "      <td>8133.83</td>\n",
       "      <td>8.3682</td>\n",
       "      <td>0.03</td>\n",
       "      <td>392</td>\n",
       "      <td>2388</td>\n",
       "      <td>100.0</td>\n",
       "      <td>38.88</td>\n",
       "      <td>23.3739</td>\n",
       "      <td>188</td>\n",
       "      <td>False</td>\n",
       "    </tr>\n",
       "    <tr>\n",
       "      <th>4</th>\n",
       "      <td>1</td>\n",
       "      <td>5</td>\n",
       "      <td>-0.0019</td>\n",
       "      <td>-0.0002</td>\n",
       "      <td>100.0</td>\n",
       "      <td>518.67</td>\n",
       "      <td>642.37</td>\n",
       "      <td>1582.85</td>\n",
       "      <td>1406.22</td>\n",
       "      <td>14.62</td>\n",
       "      <td>...</td>\n",
       "      <td>8133.80</td>\n",
       "      <td>8.4294</td>\n",
       "      <td>0.03</td>\n",
       "      <td>393</td>\n",
       "      <td>2388</td>\n",
       "      <td>100.0</td>\n",
       "      <td>38.90</td>\n",
       "      <td>23.4044</td>\n",
       "      <td>187</td>\n",
       "      <td>False</td>\n",
       "    </tr>\n",
       "  </tbody>\n",
       "</table>\n",
       "<p>5 rows × 28 columns</p>\n",
       "</div>"
      ],
      "text/plain": [
       "   UnitNumber  Cycle  Op_Setting_1  Op_Setting_2  Op_Setting_3  Sensor_1  \\\n",
       "0           1      1       -0.0007       -0.0004         100.0    518.67   \n",
       "1           1      2        0.0019       -0.0003         100.0    518.67   \n",
       "2           1      3       -0.0043        0.0003         100.0    518.67   \n",
       "3           1      4        0.0007        0.0000         100.0    518.67   \n",
       "4           1      5       -0.0019       -0.0002         100.0    518.67   \n",
       "\n",
       "   Sensor_2  Sensor_3  Sensor_4  Sensor_5  ...  Sensor_14  Sensor_15  \\\n",
       "0    641.82   1589.70   1400.60     14.62  ...    8138.62     8.4195   \n",
       "1    642.15   1591.82   1403.14     14.62  ...    8131.49     8.4318   \n",
       "2    642.35   1587.99   1404.20     14.62  ...    8133.23     8.4178   \n",
       "3    642.35   1582.79   1401.87     14.62  ...    8133.83     8.3682   \n",
       "4    642.37   1582.85   1406.22     14.62  ...    8133.80     8.4294   \n",
       "\n",
       "   Sensor_16  Sensor_17  Sensor_18  Sensor_19  Sensor_20  Sensor_21  \\\n",
       "0       0.03        392       2388      100.0      39.06    23.4190   \n",
       "1       0.03        392       2388      100.0      39.00    23.4236   \n",
       "2       0.03        390       2388      100.0      38.95    23.3442   \n",
       "3       0.03        392       2388      100.0      38.88    23.3739   \n",
       "4       0.03        393       2388      100.0      38.90    23.4044   \n",
       "\n",
       "   Target_RUL  IsFailure  \n",
       "0         191      False  \n",
       "1         190      False  \n",
       "2         189      False  \n",
       "3         188      False  \n",
       "4         187      False  \n",
       "\n",
       "[5 rows x 28 columns]"
      ]
     },
     "execution_count": 1,
     "metadata": {},
     "output_type": "execute_result"
    }
   ],
   "source": [
    "# load necessary packages and view available data\n",
    "import os\n",
    "import numpy as np\n",
    "import pandas as pd\n",
    "import seaborn as sns\n",
    "import matplotlib.pyplot as plt\n",
    "from sklearn.decomposition import PCA\n",
    "from IPython.display import display, HTML\n",
    "\n",
    "inputdir = \"turbofan-predictive-maintenance/cmapsdata\" \n",
    "\n",
    "# the files did not contain headers. Here we create labels based on documentation\n",
    "target_var = ['Target_Remaining_Useful_Life']\n",
    "index_columns_names =  [\"UnitNumber\",\"Cycle\"]\n",
    "op_settings_columns = [\"Op_Setting_\"+str(i) for i in range(1,4)]\n",
    "sensor_columns =[\"Sensor_\"+str(i) for i in range(1,22)]\n",
    "na_columns = [\"NA1\", \"NA2\"]\n",
    "column_names = index_columns_names + op_settings_columns + sensor_columns + na_columns\n",
    "\n",
    "# load data\n",
    "df_train= pd.read_csv(inputdir+'/train_FD001.txt', sep=\" \", header=None, names = column_names)\n",
    "df_test = pd.read_csv(inputdir+'/test_FD001.txt', sep=\" \", header=None, names = column_names)\n",
    "\n",
    "# drop NULL columns\n",
    "df_train.drop(df_train.columns[[26, 27]], axis=1, inplace=True)\n",
    "df_test.drop(df_test.columns[[26, 27]], axis=1, inplace=True)\n",
    "\n",
    "#count cycle time\n",
    "df_train.groupby('UnitNumber')['Cycle'].max().reset_index()\n",
    "max_cycle = df_train.groupby('UnitNumber')['Cycle'].max().reset_index()\n",
    "max_cycle.columns = ['UnitNumber', 'MaxOfCycle']\n",
    "\n",
    "# merge the max cycle back into the original frame\n",
    "df_train = df_train.merge(max_cycle, left_on='UnitNumber', right_on='UnitNumber', how='inner')\n",
    "\n",
    "# calculate RUL for each row\n",
    "Target_RUL = df_train[\"MaxOfCycle\"] - df_train[\"Cycle\"]\n",
    "df_train[\"Target_RUL\"] = Target_RUL\n",
    "\n",
    "# remove unnecessary column\n",
    "df_train = df_train.drop(\"MaxOfCycle\", axis=1)\n",
    "df_train[df_train['UnitNumber'] == 1].head(5)\n",
    "\n",
    "# flag failures\n",
    "df_train[\"IsFailure\"] = df_train['Target_RUL'] == 0\n",
    "\n",
    "df_train.head()"
   ]
  },
  {
   "cell_type": "code",
   "execution_count": 3,
   "metadata": {},
   "outputs": [],
   "source": [
    "#get label\n",
    "Y = df_train['IsFailure']\n",
    "#get 12 selected sensors as feature\n",
    "selected_sensor = [2, 3, 4, 7, 9, 11, 12, 14, 17, 20, 21]\n",
    "features_names = [\"Sensor_\"+str(i) for i in selected_sensor]\n",
    "X_raw = df_train.loc[:, features_names]"
   ]
  },
  {
   "cell_type": "code",
   "execution_count": 4,
   "metadata": {},
   "outputs": [],
   "source": [
    "#normalization with z-score\n",
    "#apply the z-score method in Pandas using the .mean() and .std() methods\n",
    "#copied from https://towardsdatascience.com/data-normalization-with-pandas-and-scikit-learn-7c1cc6ed6475\n",
    "\n",
    "def z_score(df):\n",
    "    # copy the dataframe\n",
    "    df_std = df.copy()\n",
    "    # apply the z-score method\n",
    "    for column in df_std.columns:\n",
    "        df_std[column] = (df_std[column] - df_std[column].mean()) / df_std[column].std()\n",
    "        \n",
    "    return df_std"
   ]
  },
  {
   "cell_type": "code",
   "execution_count": 5,
   "metadata": {},
   "outputs": [],
   "source": [
    "X_norm = z_score(X_raw)"
   ]
  },
  {
   "cell_type": "code",
   "execution_count": 6,
   "metadata": {},
   "outputs": [],
   "source": [
    "from sklearn.decomposition import KernelPCA\n",
    "\n",
    "decomposer = KernelPCA(n_components=7, kernel='rbf')\n",
    "X = decomposer.fit_transform(X_norm)"
   ]
  },
  {
   "cell_type": "code",
   "execution_count": 7,
   "metadata": {},
   "outputs": [],
   "source": [
    "# neural net imports\n",
    "import torch\n",
    "import torch.nn as nn\n",
    "import torch.optim as optim\n",
    "import torch.nn.functional as F\n",
    "from torch.autograd import Variable\n",
    "\n",
    "device = torch.device(\"cuda:0\" if torch.cuda.is_available() else \"cpu\")\n",
    "\n",
    "#Model 1\n",
    "#Feed-forward architecture\n",
    "class model(nn.Module):\n",
    "    def __init__(self, input_dim, hidden_dim, output_dim):\n",
    "        super(model, self).__init__()\n",
    "        self.fc1 = nn.Linear(input_dim, hidden_dim) \n",
    "        self.activation1 = nn.Sigmoid()        \n",
    "        self.fc2 = nn.Linear(hidden_dim, hidden_dim)\n",
    "        self.activation2 = nn.Sigmoid()       \n",
    "        self.fc3 = nn.Linear(hidden_dim, output_dim)\n",
    "            \n",
    "    def forward(self, x):\n",
    "        out = self.fc1(x)\n",
    "        out = self.activation1(out)\n",
    "        out = self.fc2(out)    \n",
    "        out = self.activation2(out)\n",
    "        out = self.fc3(out)\n",
    "        return out"
   ]
  },
  {
   "cell_type": "code",
   "execution_count": 8,
   "metadata": {},
   "outputs": [],
   "source": [
    "def trainer(train_input, train_label, batch_size = 1000, n_iters = 1000, \n",
    "            log=False, it_interval=100, input_dim=2, hidden_dim=5, output_dim=2, weighted=False):\n",
    "    \n",
    "    train_dataset = []\n",
    "    for i in range(train_label.shape[0]): \n",
    "        train_dataset.append([train_input[i,:], train_label[i]])\n",
    "\n",
    "    train_loader = torch.utils.data.DataLoader(dataset=train_dataset, \n",
    "                                               batch_size=batch_size, \n",
    "                                               shuffle=True)\n",
    "\n",
    "    input_dim = input_dim\n",
    "    hidden_dim = hidden_dim\n",
    "    output_dim = output_dim\n",
    "    \n",
    "    num_epochs = n_iters / (len(train_dataset) / batch_size)\n",
    "    num_epochs = int(num_epochs)\n",
    "\n",
    "    net = model(input_dim, hidden_dim, output_dim).to(device)\n",
    "    optimizer = optim.Adam(net.parameters(), lr=1e-3)\n",
    "    \n",
    "    #weights\n",
    "    if weighted:\n",
    "        class_weight = torch.Tensor([0.1, 10]).to(device)\n",
    "        sample_weight = torch.ones(batch_size).to(device)    \n",
    "        criterion = nn.CrossEntropyLoss(weight=class_weight, reduction='none')\n",
    "    else:\n",
    "        criterion = nn.CrossEntropyLoss()\n",
    "\n",
    "    it = 1\n",
    "    if log == True: print(\"Logging set as true:\")\n",
    "        \n",
    "    for epoch in range(num_epochs):\n",
    "        for i, (data, target) in enumerate(train_loader):\n",
    "            it = it + 1\n",
    "            X = Variable(torch.Tensor(data.float())).to(device)\n",
    "            y = Variable(torch.Tensor(target.float())).to(device)      \n",
    "            optimizer.zero_grad()        \n",
    "            net_out = net(X)\n",
    "            loss = criterion(net_out, y.long())\n",
    "            \n",
    "            if weighted:\n",
    "                loss = loss * sample_weight[0:X.shape[0]] #considers weighted loss\n",
    "                \n",
    "            loss.mean().backward()\n",
    "            optimizer.step()\n",
    "\n",
    "            if log == True:\n",
    "                if it % it_interval == 0:\n",
    "                    err_fp = (np.logical_and(net_out.max(1)[1].data.to(\"cpu\") == 1, y.long().to(\"cpu\")==0)).float().sum()\n",
    "                    err_fn = (np.logical_and(net_out.max(1)[1].data.to(\"cpu\") == 0, y.long().to(\"cpu\")==1)).float().sum()\n",
    "                    print(epoch+1, it, \"Loss: {0:0.3f}\".format(loss.mean().data.cpu().numpy()), \"FP: {:0.3f}\".format(err_fp.data.numpy()), \"FN: {:0.3f}\".format(err_fn.data.numpy()), end=\"\\r\")\n",
    "                    \n",
    "    return net.eval()"
   ]
  },
  {
   "cell_type": "code",
   "execution_count": 9,
   "metadata": {},
   "outputs": [
    {
     "data": {
      "text/plain": [
       "7"
      ]
     },
     "execution_count": 9,
     "metadata": {},
     "output_type": "execute_result"
    }
   ],
   "source": [
    "X.shape[1]"
   ]
  },
  {
   "cell_type": "code",
   "execution_count": 10,
   "metadata": {},
   "outputs": [
    {
     "name": "stdout",
     "output_type": "stream",
     "text": [
      "Logging set as true:\n",
      "955 10500 Loss: 0.010 FP: 69.000 FN: 0.000\r"
     ]
    }
   ],
   "source": [
    "k=10000\n",
    "dim = X.shape[1]\n",
    "net = trainer(X, Y, n_iters=k, log=True, it_interval=500, batch_size = 2000,\n",
    "              input_dim=dim, hidden_dim=128, output_dim=2, weighted=True)  \n"
   ]
  },
  {
   "cell_type": "code",
   "execution_count": 10,
   "metadata": {},
   "outputs": [
    {
     "data": {
      "text/plain": [
       "<All keys matched successfully>"
      ]
     },
     "execution_count": 10,
     "metadata": {},
     "output_type": "execute_result"
    }
   ],
   "source": [
    "#torch.save(net.state_dict(), \"net_ffn.pth\")\n",
    "\n",
    "input_dim = X.shape[1]\n",
    "hidden_dim = 128\n",
    "output_dim = 2\n",
    "net = model(input_dim, hidden_dim, output_dim).to(device)\n",
    "net.load_state_dict(torch.load('net_ffn.pth'))"
   ]
  },
  {
   "cell_type": "code",
   "execution_count": 11,
   "metadata": {},
   "outputs": [
    {
     "data": {
      "text/plain": [
       "644"
      ]
     },
     "execution_count": 11,
     "metadata": {},
     "output_type": "execute_result"
    }
   ],
   "source": [
    "net_out = net(Variable(torch.Tensor(X)).to(device))\n",
    "probs = net_out.detach().to(\"cpu\").numpy()\n",
    "y_hat = net_out.max(1)[1].data.to(\"cpu\")\n",
    "y_hat_label = y_hat.numpy()==1\n",
    "np.abs(y_hat.numpy() - np.array(Y)).sum()"
   ]
  },
  {
   "cell_type": "code",
   "execution_count": 13,
   "metadata": {},
   "outputs": [
    {
     "data": {
      "text/plain": [
       "<matplotlib.collections.PathCollection at 0x7fca7c06c550>"
      ]
     },
     "execution_count": 13,
     "metadata": {},
     "output_type": "execute_result"
    },
    {
     "data": {
      "image/png": "[encoded data removed]",
      "text/plain": [
       "<Figure size 432x288 with 1 Axes>"
      ]
     },
     "metadata": {
      "needs_background": "light"
     },
     "output_type": "display_data"
    }
   ],
   "source": [
    "plt.scatter(np.diff(probs, axis=1), y_hat)\n",
    "plt.scatter(np.diff(probs, axis=1), Y, c='C1', s=10)\n",
    "#plt.xlim([-70, 10])"
   ]
  },
  {
   "cell_type": "code",
   "execution_count": 15,
   "metadata": {},
   "outputs": [
    {
     "data": {
      "text/plain": [
       "[<matplotlib.lines.Line2D at 0x7fca7c096da0>,\n",
       " <matplotlib.lines.Line2D at 0x7fca7c096eb8>]"
      ]
     },
     "execution_count": 15,
     "metadata": {},
     "output_type": "execute_result"
    },
    {
     "data": {
      "image/png": "[encoded data removed]",
      "text/plain": [
       "<Figure size 432x288 with 1 Axes>"
      ]
     },
     "metadata": {
      "needs_background": "light"
     },
     "output_type": "display_data"
    }
   ],
   "source": [
    "plt.plot(probs)"
   ]
  },
  {
   "cell_type": "code",
   "execution_count": 68,
   "metadata": {},
   "outputs": [
    {
     "name": "stderr",
     "output_type": "stream",
     "text": [
      "/home/mansur/Mansur/Research/deep_is/venv/lib/python3.6/site-packages/ipykernel_launcher.py:1: UserWarning: Implicit dimension choice for softmax has been deprecated. Change the call to include dim=X as an argument.\n",
      "  \"\"\"Entry point for launching an IPython kernel.\n"
     ]
    },
    {
     "data": {
      "text/plain": [
       "[<matplotlib.lines.Line2D at 0x7fca2d481278>]"
      ]
     },
     "execution_count": 68,
     "metadata": {},
     "output_type": "execute_result"
    },
    {
     "data": {
      "image/png": "[encoded data removed]",
      "text/plain": [
       "<Figure size 432x288 with 1 Axes>"
      ]
     },
     "metadata": {
      "needs_background": "light"
     },
     "output_type": "display_data"
    }
   ],
   "source": [
    "probs_val = F.softmax(torch.Tensor(probs)).numpy()\n",
    "plt.plot(probs_val[0:1000, 0])\n",
    "plt.plot(probs_val[0:1000, 1])\n",
    "plt.plot(probs[0:1000,:].argmax(axis=1))\n",
    "plt.plot(Y[0:1000])"
   ]
  },
  {
   "cell_type": "code",
   "execution_count": null,
   "metadata": {},
   "outputs": [],
   "source": [
    "plt.scatter(X[:, 0],X[:, 1], c=Y, s=1+10*Y,  cmap='coolwarm')\n",
    "plt.scatter(X[y_hat_label, 0],X[y_hat_label, 1], c='k', s=1, alpha=0.2)\n",
    "plt.show()"
   ]
  },
  {
   "cell_type": "code",
   "execution_count": null,
   "metadata": {},
   "outputs": [],
   "source": [
    "plt.scatter(X[y_hat_label == Y, 0],X[y_hat_label == Y, 1], c='C0', s=1)\n",
    "plt.scatter(X[y_hat_label != Y, 0],X[y_hat_label != Y, 1], c='C3', s=2)"
   ]
  },
  {
   "cell_type": "code",
   "execution_count": null,
   "metadata": {},
   "outputs": [],
   "source": [
    "#Wiener process\n",
    "#t_ik = time of k-th observation of machine i\n",
    "#X_i(t_ik) = degradation level of machine i at time t_ik\n",
    "#p_ij = health index of machine i at time j\n",
    "#B_{t_ik} = standard Brownian motion state at tike t_ik\n",
    "\n",
    "#X_i(t_ik) = \\beta \\sum_{j=1}^{t_ik} \\exp (-b/p_ij)+ B(t_ik)\n",
    "#y_i(t_ik) = X_i(t_ik) - X_i(t_i(k-1))\n"
   ]
  }
 ],
 "metadata": {
  "kernelspec": {
   "display_name": "dl_torch",
   "language": "python",
   "name": "dl_torch"
  },
  "language_info": {
   "codemirror_mode": {
    "name": "ipython",
    "version": 3
   },
   "file_extension": ".py",
   "mimetype": "text/x-python",
   "name": "python",
   "nbconvert_exporter": "python",
   "pygments_lexer": "ipython3",
   "version": "3.6.9"
  },
  "varInspector": {
   "cols": {
    "lenName": 16,
    "lenType": 16,
    "lenVar": 40
   },
   "kernels_config": {
    "python": {
     "delete_cmd_postfix": "",
     "delete_cmd_prefix": "del ",
     "library": "var_list.py",
     "varRefreshCmd": "print(var_dic_list())"
    },
    "r": {
     "delete_cmd_postfix": ") ",
     "delete_cmd_prefix": "rm(",
     "library": "var_list.r",
     "varRefreshCmd": "cat(var_dic_list()) "
    }
   },
   "types_to_exclude": [
    "module",
    "function",
    "builtin_function_or_method",
    "instance",
    "_Feature"
   ],
   "window_display": false
  }
 },
 "nbformat": 4,
 "nbformat_minor": 4
}
